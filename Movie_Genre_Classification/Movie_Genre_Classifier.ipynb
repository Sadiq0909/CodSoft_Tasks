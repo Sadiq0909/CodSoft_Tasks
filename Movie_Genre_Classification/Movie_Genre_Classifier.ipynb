{
 "cells": [
  {
   "cell_type": "code",
   "execution_count": 2,
   "id": "749629c1-ef68-4a86-9469-ddd3d8457872",
   "metadata": {},
   "outputs": [
    {
     "name": "stderr",
     "output_type": "stream",
     "text": [
      "C:\\Users\\alisa\\AppData\\Local\\Temp\\ipykernel_19136\\331738494.py:2: ParserWarning: Falling back to the 'python' engine because the 'c' engine does not support regex separators (separators > 1 char and different from '\\s+' are interpreted as regex); you can avoid this warning by specifying engine='python'.\n",
      "  train_data = pd.read_csv(r\"C:\\Users\\alisa\\Downloads\\archive (4)\\Genre Classification Dataset\\train_data.txt\",sep=':::', names=['ID', 'TITLE', 'GENRE', 'DESCRIPTION'])\n"
     ]
    },
    {
     "data": {
      "text/plain": [
       "(54214, 4)"
      ]
     },
     "execution_count": 2,
     "metadata": {},
     "output_type": "execute_result"
    }
   ],
   "source": [
    "import pandas as pd \n",
    "train_data = pd.read_csv(r\"C:\\Users\\alisa\\Downloads\\archive (4)\\Genre Classification Dataset\\train_data.txt\",sep=':::', names=['ID', 'TITLE', 'GENRE', 'DESCRIPTION'])\n",
    "train_data.head()\n",
    "train_data.shape"
   ]
  },
  {
   "cell_type": "code",
   "execution_count": 3,
   "id": "be0721d4-3bf3-49a2-8a21-55a83f61aac5",
   "metadata": {},
   "outputs": [
    {
     "name": "stderr",
     "output_type": "stream",
     "text": [
      "C:\\Users\\alisa\\AppData\\Local\\Temp\\ipykernel_19136\\3775905022.py:1: ParserWarning: Falling back to the 'python' engine because the 'c' engine does not support regex separators (separators > 1 char and different from '\\s+' are interpreted as regex); you can avoid this warning by specifying engine='python'.\n",
      "  test_data = pd.read_csv(r\"C:\\Users\\alisa\\Downloads\\archive (4)\\Genre Classification Dataset\\test_data.txt\",sep=\":::\",names = ['ID','TITLE','DESCRIPTION','GENRE'])\n",
      "C:\\Users\\alisa\\AppData\\Local\\Temp\\ipykernel_19136\\3775905022.py:3: ParserWarning: Falling back to the 'python' engine because the 'c' engine does not support regex separators (separators > 1 char and different from '\\s+' are interpreted as regex); you can avoid this warning by specifying engine='python'.\n",
      "  test_solution = pd.read_csv(r\"C:\\Users\\alisa\\Downloads\\archive (4)\\Genre Classification Dataset\\test_data_solution.txt\",sep =\":::\",names = ['ID','TITLE','GENRE','DESCRIPTION'])\n"
     ]
    }
   ],
   "source": [
    "test_data = pd.read_csv(r\"C:\\Users\\alisa\\Downloads\\archive (4)\\Genre Classification Dataset\\test_data.txt\",sep=\":::\",names = ['ID','TITLE','DESCRIPTION','GENRE'])\n",
    "test_data.head()\n",
    "test_solution = pd.read_csv(r\"C:\\Users\\alisa\\Downloads\\archive (4)\\Genre Classification Dataset\\test_data_solution.txt\",sep =\":::\",names = ['ID','TITLE','GENRE','DESCRIPTION'])"
   ]
  },
  {
   "cell_type": "code",
   "execution_count": 4,
   "id": "ed11a7e1-66fd-490f-834c-40e84aedf904",
   "metadata": {},
   "outputs": [
    {
     "data": {
      "text/plain": [
       "GENRE\n",
       " drama           13613\n",
       " documentary     13096\n",
       " comedy           7447\n",
       " short            5073\n",
       " horror           2204\n",
       " thriller         1591\n",
       " action           1315\n",
       " western          1032\n",
       " reality-tv        884\n",
       " family            784\n",
       " adventure         775\n",
       " music             731\n",
       " romance           672\n",
       " sci-fi            647\n",
       " adult             590\n",
       " crime             505\n",
       " animation         498\n",
       " sport             432\n",
       " talk-show         391\n",
       " fantasy           323\n",
       " mystery           319\n",
       " musical           277\n",
       " biography         265\n",
       " history           243\n",
       " game-show         194\n",
       " news              181\n",
       " war               132\n",
       "Name: count, dtype: int64"
      ]
     },
     "execution_count": 4,
     "metadata": {},
     "output_type": "execute_result"
    }
   ],
   "source": [
    "train_data.GENRE.value_counts()"
   ]
  },
  {
   "cell_type": "code",
   "execution_count": 25,
   "id": "47ad010f-fae4-4a1d-a0bc-e22a1ff17e23",
   "metadata": {},
   "outputs": [],
   "source": [
    "from sklearn.feature_extraction.text import CountVectorizer\n",
    "t_v = CountVectorizer(stop_words ='english',max_features = 10000)"
   ]
  },
  {
   "cell_type": "code",
   "execution_count": 26,
   "id": "4570e72f-f494-4dd6-a5e7-d153e70ac020",
   "metadata": {},
   "outputs": [],
   "source": [
    "X = t_v.fit_transform(train_data['DESCRIPTION'])\n",
    "X_test = t_v.fit_transform(test_data['DESCRIPTION'])"
   ]
  },
  {
   "cell_type": "code",
   "execution_count": 27,
   "id": "c160ae20-1225-4180-939f-b348aa568b7f",
   "metadata": {},
   "outputs": [],
   "source": [
    "from sklearn.preprocessing import LabelEncoder\n",
    "label_encoder = LabelEncoder()\n",
    "Y = label_encoder.fit_transform(train_data['GENRE'])\n",
    "Y_test = label_encoder.transform(test_solution['GENRE'])"
   ]
  },
  {
   "cell_type": "code",
   "execution_count": 28,
   "id": "85172a05-1f16-45fc-ad69-02a3eed48a67",
   "metadata": {},
   "outputs": [],
   "source": [
    "from sklearn.model_selection import train_test_split\n",
    "X_train,X_val,Y_train,Y_val = train_test_split(X,Y,test_size =0.3 ,random_state = 42)"
   ]
  },
  {
   "cell_type": "code",
   "execution_count": 29,
   "id": "c646edc1-d6eb-4834-9fd6-803e918f25c5",
   "metadata": {},
   "outputs": [
    {
     "name": "stderr",
     "output_type": "stream",
     "text": [
      "C:\\ProgramData\\anaconda3\\Lib\\site-packages\\sklearn\\linear_model\\_logistic.py:458: ConvergenceWarning: lbfgs failed to converge (status=1):\n",
      "STOP: TOTAL NO. of ITERATIONS REACHED LIMIT.\n",
      "\n",
      "Increase the number of iterations (max_iter) or scale the data as shown in:\n",
      "    https://scikit-learn.org/stable/modules/preprocessing.html\n",
      "Please also refer to the documentation for alternative solver options:\n",
      "    https://scikit-learn.org/stable/modules/linear_model.html#logistic-regression\n",
      "  n_iter_i = _check_optimize_result(\n"
     ]
    },
    {
     "data": {
      "text/plain": [
       "0.5381494005533354"
      ]
     },
     "execution_count": 29,
     "metadata": {},
     "output_type": "execute_result"
    }
   ],
   "source": [
    "from sklearn.linear_model import LogisticRegression\n",
    "model1 = LogisticRegression()\n",
    "model1.fit(X_train,Y_train)\n",
    "model1.score(X_val,Y_val)"
   ]
  },
  {
   "cell_type": "code",
   "execution_count": 30,
   "id": "3ca69dd7-b68d-4139-a415-145c7d68b975",
   "metadata": {},
   "outputs": [
    {
     "data": {
      "text/plain": [
       "0.5538272363971718"
      ]
     },
     "execution_count": 30,
     "metadata": {},
     "output_type": "execute_result"
    }
   ],
   "source": [
    "from sklearn.naive_bayes import MultinomialNB\n",
    "model2 = MultinomialNB()\n",
    "model2.fit(X_train,Y_train)\n",
    "model2.score(X_val,Y_val)"
   ]
  },
  {
   "cell_type": "code",
   "execution_count": 16,
   "id": "01ee4312-d7c2-4065-b9fa-7cf93435a173",
   "metadata": {},
   "outputs": [],
   "source": [
    "import matplotlib.pyplot as plt\n",
    "import seaborn as sns\n",
    "from sklearn.metrics import confusion_matrix"
   ]
  },
  {
   "cell_type": "code",
   "execution_count": 35,
   "id": "d0368613-9956-44c2-bcd0-a70a343a672e",
   "metadata": {},
   "outputs": [
    {
     "name": "stdout",
     "output_type": "stream",
     "text": [
      "              precision    recall  f1-score   support\n",
      "\n",
      "           0       0.02      0.00      0.00      1314\n",
      "           1       0.02      0.04      0.03       590\n",
      "           2       0.03      0.02      0.02       775\n",
      "           3       0.01      0.03      0.02       498\n",
      "           4       0.00      0.05      0.01       264\n",
      "           5       0.23      0.01      0.01      7446\n",
      "           6       0.02      0.02      0.02       505\n",
      "           7       0.17      0.00      0.01     13096\n",
      "           8       0.35      0.00      0.01     13612\n",
      "           9       0.01      0.00      0.01       783\n",
      "          10       0.01      0.18      0.02       322\n",
      "          11       0.05      0.47      0.10       193\n",
      "          12       0.00      0.07      0.01       243\n",
      "          13       0.02      0.00      0.00      2204\n",
      "          14       0.03      0.01      0.02       731\n",
      "          15       0.01      0.08      0.01       276\n",
      "          16       0.00      0.04      0.01       318\n",
      "          17       0.01      0.23      0.01       181\n",
      "          18       0.04      0.02      0.02       883\n",
      "          19       0.03      0.01      0.02       672\n",
      "          20       0.02      0.02      0.02       646\n",
      "          21       0.15      0.01      0.02      5072\n",
      "          22       0.02      0.07      0.03       431\n",
      "          23       0.01      0.09      0.02       391\n",
      "          24       0.05      0.00      0.01      1590\n",
      "          25       0.00      0.42      0.01       132\n",
      "          26       0.17      0.01      0.02      1032\n",
      "\n",
      "    accuracy                           0.01     54200\n",
      "   macro avg       0.05      0.07      0.02     54200\n",
      "weighted avg       0.18      0.01      0.01     54200\n",
      "\n"
     ]
    }
   ],
   "source": [
    "from sklearn.metrics import classification_report\n",
    "y_pred = model2.predict(X_test)\n",
    "print(classification_report(Y_test,y_pred))"
   ]
  },
  {
   "cell_type": "code",
   "execution_count": 36,
   "id": "c0ab9c2a-c5c4-482a-bdae-3828ff053502",
   "metadata": {},
   "outputs": [
    {
     "name": "stdout",
     "output_type": "stream",
     "text": [
      " documentary \n",
      " documentary \n"
     ]
    }
   ],
   "source": [
    "def predict_movie(description):\n",
    "    t_v1 = t_v.transform([description])\n",
    "    pred_label = model2.predict(t_v1)\n",
    "    return label_encoder.inverse_transform(pred_label)[0]\n",
    "\n",
    "sample_descr_for_movie = \"A movie where police cashes the criminal and shoot him\"\n",
    "print(predict_movie(sample_descr_for_movie))\n",
    "\n",
    "sample_descr_for_movie1 = \"A movie where person cashes a girl too get marry with him but girl refuses him.\"\n",
    "print(predict_movie(sample_descr_for_movie1))"
   ]
  },
  {
   "cell_type": "code",
   "execution_count": null,
   "id": "3d0cfe82-59dd-466e-90f4-7fef31aa14db",
   "metadata": {},
   "outputs": [],
   "source": []
  }
 ],
 "metadata": {
  "kernelspec": {
   "display_name": "Python 3 (ipykernel)",
   "language": "python",
   "name": "python3"
  },
  "language_info": {
   "codemirror_mode": {
    "name": "ipython",
    "version": 3
   },
   "file_extension": ".py",
   "mimetype": "text/x-python",
   "name": "python",
   "nbconvert_exporter": "python",
   "pygments_lexer": "ipython3",
   "version": "3.11.7"
  }
 },
 "nbformat": 4,
 "nbformat_minor": 5
}
